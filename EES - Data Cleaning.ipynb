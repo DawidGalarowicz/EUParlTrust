{
 "cells": [
  {
   "cell_type": "markdown",
   "metadata": {
    "colab_type": "text",
    "id": "fQg4XQKcqijy"
   },
   "source": [
    "# Trust in the EU Parliament among EU citizens\n",
    "*Based on the 2019 European Election Study (EES) Voter Study data*\n",
    "\n",
    "## Notebook 1 - Data Processing\n",
    "\n"
   ]
  },
  {
   "cell_type": "markdown",
   "metadata": {
    "colab_type": "text",
    "id": "6Jc5RMqvk590"
   },
   "source": [
    "#### Introduction\n",
    "In this notebook, I will clean and reshape the European Election Study (EES) data. My aim is to have it in a form such that a tree-based classification algorithm can be applied on it.\n",
    "\n"
   ]
  },
  {
   "cell_type": "markdown",
   "metadata": {
    "colab_type": "text",
    "id": "toIXmJLvQNuy"
   },
   "source": [
    "#### 1. Import packages\n",
    "\n",
    "Let us start by importing all Python libraries that will be used below."
   ]
  },
  {
   "cell_type": "code",
   "execution_count": null,
   "metadata": {
    "colab": {},
    "colab_type": "code",
    "id": "YAnp9vPySbFo"
   },
   "outputs": [],
   "source": [
    "import pandas as pd\n",
    "import numpy as np\n",
    "import os "
   ]
  },
  {
   "cell_type": "markdown",
   "metadata": {
    "colab_type": "text",
    "id": "ZaEYt5zCWA79"
   },
   "source": [
    "#### 2. Import data\n",
    "\n",
    "The next step is to load the raw data and auxiliary files which will help us later."
   ]
  },
  {
   "cell_type": "code",
   "execution_count": null,
   "metadata": {
    "colab": {},
    "colab_type": "code",
    "id": "OdGroJFxSbFt",
    "outputId": "2f3bc4a3-10e8-4cda-e251-77f318b62ad7"
   },
   "outputs": [
    {
     "name": "stderr",
     "output_type": "stream",
     "text": [
      "C:\\Users\\dawid\\anaconda3\\lib\\site-packages\\pandas\\io\\stata.py:1409: UnicodeWarning: \n",
      "One or more strings in the dta file could not be decoded using utf-8, and\n",
      "so the fallback encoding of latin-1 is being used.  This can happen when a file\n",
      "has been incorrectly encoded by Stata or some other software. You should verify\n",
      "the string values returned are correct.\n",
      "  warnings.warn(msg, UnicodeWarning)\n"
     ]
    },
    {
     "data": {
      "text/html": [
       "<div>\n",
       "<style scoped>\n",
       "    .dataframe tbody tr th:only-of-type {\n",
       "        vertical-align: middle;\n",
       "    }\n",
       "\n",
       "    .dataframe tbody tr th {\n",
       "        vertical-align: top;\n",
       "    }\n",
       "\n",
       "    .dataframe thead th {\n",
       "        text-align: right;\n",
       "    }\n",
       "</style>\n",
       "<table border=\"1\" class=\"dataframe\">\n",
       "  <thead>\n",
       "    <tr style=\"text-align: right;\">\n",
       "      <th></th>\n",
       "      <th>respid</th>\n",
       "      <th>Serial</th>\n",
       "      <th>hCountry</th>\n",
       "      <th>countrycode</th>\n",
       "      <th>region</th>\n",
       "      <th>region_NUTS1</th>\n",
       "      <th>region_NUTS2</th>\n",
       "      <th>region_NUTS3</th>\n",
       "      <th>Q1_1</th>\n",
       "      <th>Q1_10</th>\n",
       "      <th>...</th>\n",
       "      <th>EDU</th>\n",
       "      <th>lang_BE</th>\n",
       "      <th>lang_est</th>\n",
       "      <th>lang_finn</th>\n",
       "      <th>lang_LT</th>\n",
       "      <th>WGT1</th>\n",
       "      <th>WGT2</th>\n",
       "      <th>WGT3</th>\n",
       "      <th>WGT4</th>\n",
       "      <th>WGT5</th>\n",
       "    </tr>\n",
       "  </thead>\n",
       "  <tbody>\n",
       "    <tr>\n",
       "      <th>0</th>\n",
       "      <td>99</td>\n",
       "      <td>100009348.0</td>\n",
       "      <td>1</td>\n",
       "      <td>1040</td>\n",
       "      <td>108</td>\n",
       "      <td>AT1</td>\n",
       "      <td>AT12</td>\n",
       "      <td>96</td>\n",
       "      <td></td>\n",
       "      <td></td>\n",
       "      <td>...</td>\n",
       "      <td>3</td>\n",
       "      <td>NaN</td>\n",
       "      <td>NaN</td>\n",
       "      <td>NaN</td>\n",
       "      <td>NaN</td>\n",
       "      <td>1.047887</td>\n",
       "      <td>0.454922</td>\n",
       "      <td>0.909012</td>\n",
       "      <td>1.160725</td>\n",
       "      <td>1.024638</td>\n",
       "    </tr>\n",
       "    <tr>\n",
       "      <th>1</th>\n",
       "      <td>7762</td>\n",
       "      <td>100007762.0</td>\n",
       "      <td>1</td>\n",
       "      <td>1040</td>\n",
       "      <td>108</td>\n",
       "      <td>AT1</td>\n",
       "      <td>AT12</td>\n",
       "      <td>96</td>\n",
       "      <td>Politische Stabilität</td>\n",
       "      <td></td>\n",
       "      <td>...</td>\n",
       "      <td>2</td>\n",
       "      <td>NaN</td>\n",
       "      <td>NaN</td>\n",
       "      <td>NaN</td>\n",
       "      <td>NaN</td>\n",
       "      <td>1.074892</td>\n",
       "      <td>0.465540</td>\n",
       "      <td>0.915341</td>\n",
       "      <td>1.582634</td>\n",
       "      <td>1.445454</td>\n",
       "    </tr>\n",
       "    <tr>\n",
       "      <th>2</th>\n",
       "      <td>7801</td>\n",
       "      <td>100007801.0</td>\n",
       "      <td>1</td>\n",
       "      <td>1040</td>\n",
       "      <td>108</td>\n",
       "      <td>AT1</td>\n",
       "      <td>AT12</td>\n",
       "      <td>96</td>\n",
       "      <td>Spaltung der Gesellschaft durch Hetze und Lüge...</td>\n",
       "      <td></td>\n",
       "      <td>...</td>\n",
       "      <td>3</td>\n",
       "      <td>NaN</td>\n",
       "      <td>NaN</td>\n",
       "      <td>NaN</td>\n",
       "      <td>NaN</td>\n",
       "      <td>1.047887</td>\n",
       "      <td>0.454922</td>\n",
       "      <td>0.909012</td>\n",
       "      <td>0.768076</td>\n",
       "      <td>0.696121</td>\n",
       "    </tr>\n",
       "    <tr>\n",
       "      <th>3</th>\n",
       "      <td>7904</td>\n",
       "      <td>100007904.0</td>\n",
       "      <td>1</td>\n",
       "      <td>1040</td>\n",
       "      <td>102</td>\n",
       "      <td>AT3</td>\n",
       "      <td>AT33</td>\n",
       "      <td>96</td>\n",
       "      <td>mangelnder Umweltschutz</td>\n",
       "      <td></td>\n",
       "      <td>...</td>\n",
       "      <td>97</td>\n",
       "      <td>NaN</td>\n",
       "      <td>NaN</td>\n",
       "      <td>NaN</td>\n",
       "      <td>NaN</td>\n",
       "      <td>0.867431</td>\n",
       "      <td>0.454922</td>\n",
       "      <td>0.853581</td>\n",
       "      <td>1.582634</td>\n",
       "      <td>1.093430</td>\n",
       "    </tr>\n",
       "    <tr>\n",
       "      <th>4</th>\n",
       "      <td>9223</td>\n",
       "      <td>100009223.0</td>\n",
       "      <td>1</td>\n",
       "      <td>1040</td>\n",
       "      <td>109</td>\n",
       "      <td>AT1</td>\n",
       "      <td>AT13</td>\n",
       "      <td>96</td>\n",
       "      <td></td>\n",
       "      <td></td>\n",
       "      <td>...</td>\n",
       "      <td>97</td>\n",
       "      <td>NaN</td>\n",
       "      <td>NaN</td>\n",
       "      <td>NaN</td>\n",
       "      <td>NaN</td>\n",
       "      <td>1.065503</td>\n",
       "      <td>0.553030</td>\n",
       "      <td>0.987536</td>\n",
       "      <td>1.582634</td>\n",
       "      <td>1.524754</td>\n",
       "    </tr>\n",
       "  </tbody>\n",
       "</table>\n",
       "<p>5 rows × 116 columns</p>\n",
       "</div>"
      ],
      "text/plain": [
       "   respid       Serial  hCountry  countrycode  region region_NUTS1  \\\n",
       "0      99  100009348.0         1         1040     108          AT1   \n",
       "1    7762  100007762.0         1         1040     108          AT1   \n",
       "2    7801  100007801.0         1         1040     108          AT1   \n",
       "3    7904  100007904.0         1         1040     102          AT3   \n",
       "4    9223  100009223.0         1         1040     109          AT1   \n",
       "\n",
       "  region_NUTS2 region_NUTS3  \\\n",
       "0         AT12           96   \n",
       "1         AT12           96   \n",
       "2         AT12           96   \n",
       "3         AT33           96   \n",
       "4         AT13           96   \n",
       "\n",
       "                                                Q1_1 Q1_10  ... EDU lang_BE  \\\n",
       "0                                                           ...   3     NaN   \n",
       "1                              Politische Stabilität        ...   2     NaN   \n",
       "2  Spaltung der Gesellschaft durch Hetze und Lüge...        ...   3     NaN   \n",
       "3                            mangelnder Umweltschutz        ...  97     NaN   \n",
       "4                                                           ...  97     NaN   \n",
       "\n",
       "   lang_est  lang_finn  lang_LT      WGT1      WGT2      WGT3      WGT4  \\\n",
       "0       NaN        NaN      NaN  1.047887  0.454922  0.909012  1.160725   \n",
       "1       NaN        NaN      NaN  1.074892  0.465540  0.915341  1.582634   \n",
       "2       NaN        NaN      NaN  1.047887  0.454922  0.909012  0.768076   \n",
       "3       NaN        NaN      NaN  0.867431  0.454922  0.853581  1.582634   \n",
       "4       NaN        NaN      NaN  1.065503  0.553030  0.987536  1.582634   \n",
       "\n",
       "       WGT5  \n",
       "0  1.024638  \n",
       "1  1.445454  \n",
       "2  0.696121  \n",
       "3  1.093430  \n",
       "4  1.524754  \n",
       "\n",
       "[5 rows x 116 columns]"
      ]
     },
     "execution_count": 2,
     "metadata": {
      "tags": []
     },
     "output_type": "execute_result"
    }
   ],
   "source": [
    "# Open the main data file.\n",
    "df = pd.read_stata('EES2019 Voter Study early release.dta', \n",
    "                   convert_categoricals = False)\n",
    "\n",
    "df.head()"
   ]
  },
  {
   "cell_type": "markdown",
   "metadata": {
    "colab_type": "text",
    "id": "f0o2gervWYjG"
   },
   "source": [
    "The warning about encoding can be ignored!\n",
    "\n",
    "We see it due to the fact that the file contains unique, language-specific  characters for Russian, Greek etc."
   ]
  },
  {
   "cell_type": "code",
   "execution_count": null,
   "metadata": {
    "colab": {},
    "colab_type": "code",
    "id": "hnnDa8ImSbF1"
   },
   "outputs": [],
   "source": [
    "# Import party codes and their mapping.\n",
    "party_codes = pd.read_csv('party-list-appendix.csv', encoding = \"latin-1\") \n",
    "party_codes.head()\n",
    "\n",
    "# Rename one column to fix a mistake in its name.\n",
    "party_codes = party_codes.rename(columns={\"Coutnry_short\": \"country_short\"})"
   ]
  },
  {
   "cell_type": "code",
   "execution_count": null,
   "metadata": {
    "colab": {},
    "colab_type": "code",
    "id": "J4jCzKe0SbF4"
   },
   "outputs": [],
   "source": [
    "# Import the NUTS names mappping.\n",
    "NUTS_codes = pd.read_csv('NUTS2.csv', encoding = \"utf-8\") "
   ]
  },
  {
   "cell_type": "markdown",
   "metadata": {
    "colab_type": "text",
    "id": "M02Eb7K_SbF7"
   },
   "source": [
    "#### 3. Start cleaning\n",
    "\n",
    "We can now proceed with looking at what is in the main DataFrame and processing its contents."
   ]
  },
  {
   "cell_type": "code",
   "execution_count": null,
   "metadata": {
    "colab": {},
    "colab_type": "code",
    "id": "VUWf9aFgSbF8",
    "outputId": "5e6c7b31-6684-44de-82e0-b83e8c30c2f2"
   },
   "outputs": [
    {
     "name": "stdout",
     "output_type": "stream",
     "text": [
      "Number of unique entries of \"respid\": 25757\n",
      "Number of unique entries of \"Serial\": 26538\n",
      "Number of rows: 26538\n"
     ]
    }
   ],
   "source": [
    "# Which column should be the ID column?\n",
    "# We have two columns (\"Serial\" and \"respid\") which could potentially be our unique IDs. The data description is quite vague here.\n",
    "respid_unique_len = len(df[\"respid\"].unique())\n",
    "Serial_unique_len = len(df[\"Serial\"].unique())\n",
    "df_dims = df.shape\n",
    "\n",
    "print('Number of unique entries of \"respid\": {}'.format(respid_unique_len))\n",
    "print('Number of unique entries of \"Serial\": {}'.format(Serial_unique_len))\n",
    "print('Number of rows: {}'.format(df.shape[0]))\n",
    "\n",
    "# The documentation of the dataset indicates that more than 26,500 reponses were recorded. \n",
    "# \"Serial\" would be a better candidate since each row has a unique entry in that column and the length of the unique responses matches the documentation."
   ]
  },
  {
   "cell_type": "code",
   "execution_count": null,
   "metadata": {
    "colab": {},
    "colab_type": "code",
    "id": "0JGaqd9NSbGA",
    "outputId": "07279a94-4a72-43dc-ddb3-3392fb9f5c1f"
   },
   "outputs": [
    {
     "data": {
      "text/html": [
       "<div>\n",
       "<style scoped>\n",
       "    .dataframe tbody tr th:only-of-type {\n",
       "        vertical-align: middle;\n",
       "    }\n",
       "\n",
       "    .dataframe tbody tr th {\n",
       "        vertical-align: top;\n",
       "    }\n",
       "\n",
       "    .dataframe thead th {\n",
       "        text-align: right;\n",
       "    }\n",
       "</style>\n",
       "<table border=\"1\" class=\"dataframe\">\n",
       "  <thead>\n",
       "    <tr style=\"text-align: right;\">\n",
       "      <th></th>\n",
       "      <th>Serial</th>\n",
       "      <th>hCountry</th>\n",
       "      <th>countrycode</th>\n",
       "      <th>region</th>\n",
       "      <th>region_NUTS1</th>\n",
       "      <th>region_NUTS2</th>\n",
       "      <th>region_NUTS3</th>\n",
       "      <th>Q1_1</th>\n",
       "      <th>Q1_10</th>\n",
       "      <th>Q1_11</th>\n",
       "      <th>...</th>\n",
       "      <th>EDU</th>\n",
       "      <th>lang_BE</th>\n",
       "      <th>lang_est</th>\n",
       "      <th>lang_finn</th>\n",
       "      <th>lang_LT</th>\n",
       "      <th>WGT1</th>\n",
       "      <th>WGT2</th>\n",
       "      <th>WGT3</th>\n",
       "      <th>WGT4</th>\n",
       "      <th>WGT5</th>\n",
       "    </tr>\n",
       "  </thead>\n",
       "  <tbody>\n",
       "    <tr>\n",
       "      <th>0</th>\n",
       "      <td>100009348.0</td>\n",
       "      <td>1</td>\n",
       "      <td>1040</td>\n",
       "      <td>108</td>\n",
       "      <td>AT1</td>\n",
       "      <td>AT12</td>\n",
       "      <td>96</td>\n",
       "      <td></td>\n",
       "      <td></td>\n",
       "      <td></td>\n",
       "      <td>...</td>\n",
       "      <td>3</td>\n",
       "      <td>NaN</td>\n",
       "      <td>NaN</td>\n",
       "      <td>NaN</td>\n",
       "      <td>NaN</td>\n",
       "      <td>1.047887</td>\n",
       "      <td>0.454922</td>\n",
       "      <td>0.909012</td>\n",
       "      <td>1.160725</td>\n",
       "      <td>1.024638</td>\n",
       "    </tr>\n",
       "    <tr>\n",
       "      <th>1</th>\n",
       "      <td>100007762.0</td>\n",
       "      <td>1</td>\n",
       "      <td>1040</td>\n",
       "      <td>108</td>\n",
       "      <td>AT1</td>\n",
       "      <td>AT12</td>\n",
       "      <td>96</td>\n",
       "      <td>Politische Stabilität</td>\n",
       "      <td></td>\n",
       "      <td></td>\n",
       "      <td>...</td>\n",
       "      <td>2</td>\n",
       "      <td>NaN</td>\n",
       "      <td>NaN</td>\n",
       "      <td>NaN</td>\n",
       "      <td>NaN</td>\n",
       "      <td>1.074892</td>\n",
       "      <td>0.465540</td>\n",
       "      <td>0.915341</td>\n",
       "      <td>1.582634</td>\n",
       "      <td>1.445454</td>\n",
       "    </tr>\n",
       "    <tr>\n",
       "      <th>2</th>\n",
       "      <td>100007801.0</td>\n",
       "      <td>1</td>\n",
       "      <td>1040</td>\n",
       "      <td>108</td>\n",
       "      <td>AT1</td>\n",
       "      <td>AT12</td>\n",
       "      <td>96</td>\n",
       "      <td>Spaltung der Gesellschaft durch Hetze und Lüge...</td>\n",
       "      <td></td>\n",
       "      <td></td>\n",
       "      <td>...</td>\n",
       "      <td>3</td>\n",
       "      <td>NaN</td>\n",
       "      <td>NaN</td>\n",
       "      <td>NaN</td>\n",
       "      <td>NaN</td>\n",
       "      <td>1.047887</td>\n",
       "      <td>0.454922</td>\n",
       "      <td>0.909012</td>\n",
       "      <td>0.768076</td>\n",
       "      <td>0.696121</td>\n",
       "    </tr>\n",
       "    <tr>\n",
       "      <th>3</th>\n",
       "      <td>100007904.0</td>\n",
       "      <td>1</td>\n",
       "      <td>1040</td>\n",
       "      <td>102</td>\n",
       "      <td>AT3</td>\n",
       "      <td>AT33</td>\n",
       "      <td>96</td>\n",
       "      <td>mangelnder Umweltschutz</td>\n",
       "      <td></td>\n",
       "      <td></td>\n",
       "      <td>...</td>\n",
       "      <td>97</td>\n",
       "      <td>NaN</td>\n",
       "      <td>NaN</td>\n",
       "      <td>NaN</td>\n",
       "      <td>NaN</td>\n",
       "      <td>0.867431</td>\n",
       "      <td>0.454922</td>\n",
       "      <td>0.853581</td>\n",
       "      <td>1.582634</td>\n",
       "      <td>1.093430</td>\n",
       "    </tr>\n",
       "    <tr>\n",
       "      <th>4</th>\n",
       "      <td>100009223.0</td>\n",
       "      <td>1</td>\n",
       "      <td>1040</td>\n",
       "      <td>109</td>\n",
       "      <td>AT1</td>\n",
       "      <td>AT13</td>\n",
       "      <td>96</td>\n",
       "      <td></td>\n",
       "      <td></td>\n",
       "      <td></td>\n",
       "      <td>...</td>\n",
       "      <td>97</td>\n",
       "      <td>NaN</td>\n",
       "      <td>NaN</td>\n",
       "      <td>NaN</td>\n",
       "      <td>NaN</td>\n",
       "      <td>1.065503</td>\n",
       "      <td>0.553030</td>\n",
       "      <td>0.987536</td>\n",
       "      <td>1.582634</td>\n",
       "      <td>1.524754</td>\n",
       "    </tr>\n",
       "  </tbody>\n",
       "</table>\n",
       "<p>5 rows × 115 columns</p>\n",
       "</div>"
      ],
      "text/plain": [
       "        Serial  hCountry  countrycode  region region_NUTS1 region_NUTS2  \\\n",
       "0  100009348.0         1         1040     108          AT1         AT12   \n",
       "1  100007762.0         1         1040     108          AT1         AT12   \n",
       "2  100007801.0         1         1040     108          AT1         AT12   \n",
       "3  100007904.0         1         1040     102          AT3         AT33   \n",
       "4  100009223.0         1         1040     109          AT1         AT13   \n",
       "\n",
       "  region_NUTS3                                               Q1_1 Q1_10 Q1_11  \\\n",
       "0           96                                                                  \n",
       "1           96                              Politische Stabilität               \n",
       "2           96  Spaltung der Gesellschaft durch Hetze und Lüge...               \n",
       "3           96                            mangelnder Umweltschutz               \n",
       "4           96                                                                  \n",
       "\n",
       "   ... EDU  lang_BE  lang_est  lang_finn  lang_LT      WGT1      WGT2  \\\n",
       "0  ...   3      NaN       NaN        NaN      NaN  1.047887  0.454922   \n",
       "1  ...   2      NaN       NaN        NaN      NaN  1.074892  0.465540   \n",
       "2  ...   3      NaN       NaN        NaN      NaN  1.047887  0.454922   \n",
       "3  ...  97      NaN       NaN        NaN      NaN  0.867431  0.454922   \n",
       "4  ...  97      NaN       NaN        NaN      NaN  1.065503  0.553030   \n",
       "\n",
       "       WGT3      WGT4      WGT5  \n",
       "0  0.909012  1.160725  1.024638  \n",
       "1  0.915341  1.582634  1.445454  \n",
       "2  0.909012  0.768076  0.696121  \n",
       "3  0.853581  1.582634  1.093430  \n",
       "4  0.987536  1.582634  1.524754  \n",
       "\n",
       "[5 rows x 115 columns]"
      ]
     },
     "execution_count": 7,
     "metadata": {
      "tags": []
     },
     "output_type": "execute_result"
    }
   ],
   "source": [
    "# Drop the \"respid\" column.\n",
    "df = df.drop(columns = [\"respid\"])\n",
    "df.head()"
   ]
  },
  {
   "cell_type": "code",
   "execution_count": null,
   "metadata": {
    "colab": {},
    "colab_type": "code",
    "id": "4knz-pV5SbGD",
    "outputId": "4554a048-fc71-4739-fc57-9adfa9edddf4"
   },
   "outputs": [
    {
     "name": "stdout",
     "output_type": "stream",
     "text": [
      "['Serial', 'hCountry', 'countrycode', 'region', 'region_NUTS1', 'region_NUTS2', 'region_NUTS3', 'Q1_1', 'Q1_10', 'Q1_11', 'Q1_12', 'noanswerQ1_98', 'Q2', 'Q2n', 'Q2_EES', 'Q3', 'Q4', 'Q5', 'Q6', 'Q7', 'Q7n', 'Q7_ees', 'Q8', 'Q9', 'Q9n', 'Q9_ees', 'q10_1', 'q10_2', 'q10_3', 'q10_4', 'q10_5', 'q10_6', 'q10_7', 'q10_8', 'q10_9', 'q10_10', 'Q11', 'q13_1', 'q13_2', 'q13_3', 'q13_4', 'q13_5', 'q13_6', 'q13_7', 'q13_8', 'q13_9', 'Q14_1', 'Q14_2', 'Q14_3', 'Q14_4', 'Q14_5', 'Q14_6', 'Q16', 'Q18_1', 'Q18_2', 'Q19', 'Q20', 'Q21', 'Q22', 'Q23', 'q24_1', 'q24_2', 'q24_3', 'q24_4', 'q24_5', 'q24_6', 'q24_7', 'q24_8', 'q24_9', 'Q25', 'Q25n', 'Q25_EES', 'Q26', 'Q27_1', 'Q27_2', 'Q27_3', 'QG32_1', 'QG32_2', 'QGQ34_1', 'QG34_2', 'QG36_1', 'QG36_2', 'QG38_1', 'QG38_2', 'QG38_3', 'QG38_4', 'QG38_5', 'QG38_6', 'D1', 'D4a', 'D4a_96_other', 'D4b_1', 'noanswerD4b_2', 'D5', 'D6', 'D6a', 'D7', 'D8', 'D9', 'D10', 'D11', 'D3', 'D4_1', 'hAge', 'D2_1', 'EDU', 'lang_BE', 'lang_est', 'lang_finn', 'lang_LT', 'WGT1', 'WGT2', 'WGT3', 'WGT4', 'WGT5']\n"
     ]
    }
   ],
   "source": [
    "# Analyse columns with features.\n",
    "# We need to investigate what some of them mean as no clear data dictionary has been provided with the dataset.\n",
    "# Below, we will try to make informed guesses as to what certain columns mean if their names have not been explained in the documentation.\n",
    "print(list(df.columns))"
   ]
  },
  {
   "cell_type": "code",
   "execution_count": null,
   "metadata": {
    "colab": {},
    "colab_type": "code",
    "id": "eSne4AhfSbGH"
   },
   "outputs": [],
   "source": [
    "# hCountry\n",
    "df.groupby(by=\"hCountry\").count()[\"Serial\"].values == df.groupby(by=\"countrycode\").count()[\"Serial\"].values\n",
    "\n",
    "# This column contains the same information (i.e. country) as \"countrycode\", hence, we can drop it.\n",
    "df = df.drop(columns = [\"hCountry\"])"
   ]
  },
  {
   "cell_type": "code",
   "execution_count": null,
   "metadata": {
    "colab": {},
    "colab_type": "code",
    "id": "ufjT3FB9SbGK"
   },
   "outputs": [],
   "source": [
    "# Columns region, region_NUTS1, region_NUTS2, region_NUTS3 relate to regions where respondents live. \n",
    "# Different columns use different ways of splitting EU + UK countries in regions.\n",
    "\n",
    "# We will drop column region_NUTS3 since it is in majority of cases equal to 96 which does\n",
    "# not mean anything in terms of NUTS codes. We will also drop region column as the encoding is\n",
    "# unknown and we already have this information in our NUTS regions.\n",
    "df = df.drop(columns = [\"region\", \"region_NUTS3\"])\n",
    "\n",
    "# We will map names to NUTS codes now.\n",
    "# This way, we are going to have actual names instead of codes.\n",
    "mapNUTS = dict(zip(NUTS_codes[\"NUTS\"], NUTS_codes[\"name\"]))\n",
    "df[\"region_NUTS1\"] = df[\"region_NUTS1\"].map(mapNUTS, na_action = \"ignore\")\n",
    "df[\"region_NUTS2\"] = df[\"region_NUTS2\"].map(mapNUTS, na_action = \"ignore\")"
   ]
  },
  {
   "cell_type": "code",
   "execution_count": null,
   "metadata": {
    "colab": {},
    "colab_type": "code",
    "id": "XM71M750SbGN"
   },
   "outputs": [],
   "source": [
    "# Q1_10, Q1_11, Q1_12\n",
    "df.groupby(by=\"Q1_10\").count()[\"Serial\"]\n",
    "df.groupby(by=\"Q1_11\").count()[\"Serial\"]\n",
    "df.groupby(by=\"Q1_12\").count()[\"Serial\"]\n",
    "# They are predominantly blank and relate to Q1.\n",
    "\n",
    "df[(df[\"Q1_1\"] != \"\") & (df[\"Q1_10\"] != \"\") & (df[\"Q1_11\"] != \"\")][[\"Q1_1\", \"Q1_10\", \"Q1_11\"]].values \n",
    "# It seems that if someone provided a really long answer, it was split into few columns.\n",
    "\n",
    "# We can drop them.\n",
    "df = df.drop(columns = [\"Q1_10\", \"Q1_11\", \"Q1_12\"])"
   ]
  },
  {
   "cell_type": "code",
   "execution_count": null,
   "metadata": {
    "colab": {},
    "colab_type": "code",
    "id": "yH2ySuOeSbGR",
    "outputId": "2289a292-1c18-4e5c-bc8b-884def9f8695"
   },
   "outputs": [
    {
     "name": "stdout",
     "output_type": "stream",
     "text": [
      "Number of respondents who were marked as answered \"I do not know\" and left the field blank: 3449\n",
      "Number of respondents who were marked as answered \"I do not know\" and did not leave the field blank: 0\n",
      "Number of respondents who were not marked as answered \"I do not know\" and left the field blank: 168\n",
      "Number of respondents who were not marked as answered \"I do not know\" and did not leave the field blank: 22921\n"
     ]
    }
   ],
   "source": [
    "# noanswerQ1_98\n",
    "\n",
    "# In Q1, respondents wrote the most pressing issues for their countries.\n",
    "# They could answer \"I don't know\" as well, instead of typing anything or leaving this field blank.\n",
    "# noanswerQ1_98 probably tells us how many people selected \"I don't know\" instead of writing anything (or not providing any response).\n",
    "df.groupby(by=\"noanswerQ1_98\").count()[\"Serial\"]\n",
    "\n",
    "print('Number of respondents who were marked as answered \"I do not know\" and left the field blank: {}'.format(df[(df[\"noanswerQ1_98\"] == 1) & (df[\"Q1_1\"] == \"\")].shape[0]))\n",
    "print('Number of respondents who were marked as answered \"I do not know\" and did not leave the field blank: {}'.format(df[(df[\"noanswerQ1_98\"] == 1) & (df[\"Q1_1\"] != \"\")].shape[0]))\n",
    "print('Number of respondents who were not marked as answered \"I do not know\" and left the field blank: {}'.format(df[(df[\"noanswerQ1_98\"] != 1) & (df[\"Q1_1\"] == \"\")].shape[0]))\n",
    "print('Number of respondents who were not marked as answered \"I do not know\" and did not leave the field blank: {}'.format(df[(df[\"noanswerQ1_98\"] != 1) & (df[\"Q1_1\"] != \"\")].shape[0]))\n",
    "\n",
    "# The result is problematic as it shows issues with the data. We cannot have people answering and leaving the field blank at the same time!\n",
    "# To solve it, we will assume that leaving field blank is equivalent to saying \"I don't know\" and delete column noanswerQ1_98.\n",
    "df = df.drop(columns = [\"noanswerQ1_98\"])"
   ]
  },
  {
   "cell_type": "code",
   "execution_count": null,
   "metadata": {
    "colab": {},
    "colab_type": "code",
    "id": "7-mObZl_SbGU",
    "outputId": "9e2cadc5-bb8f-47ef-fdaa-f5857cfedbba"
   },
   "outputs": [
    {
     "name": "stdout",
     "output_type": "stream",
     "text": [
      "Number of respondents who were marked as \"provided an answer to D4b\" but noanswerD4b_2 says they did not: 85\n",
      "Number of respondents who were marked as \"provided an answer to D4b\" and noanswerD4b_2 says they did: 1561\n",
      "Number of respondents who were marked as \"did not provide an answer to D4b\" and noanswerD4b_2 says they did not: 0\n",
      "Number of respondents who were marked as \"did not provide an answer to D4b\" but noanswerD4b_2 says they did: 483\n"
     ]
    }
   ],
   "source": [
    "# noanswerD4b_2\n",
    "# Question D4b asked: IF OTHER in D4a (In which country were you born?), when did you first come to [Country]?\n",
    "# It asked respondents to write down a year.\n",
    "# noanswerD4b_2 probably states which respondents did not provide such answer.\n",
    "df.groupby(by=\"noanswerD4b_2\").count()[\"Serial\"]\n",
    "\n",
    "print('Number of respondents who were marked as \"provided an answer to D4b\" but noanswerD4b_2 says they did not: {}'.format(df[(df[\"D4b_1\"].notna()) & (df[\"noanswerD4b_2\"] == 1)].shape[0]))\n",
    "print('Number of respondents who were marked as \"provided an answer to D4b\" and noanswerD4b_2 says they did: {}'.format(df[(df[\"D4b_1\"].notna()) & (df[\"noanswerD4b_2\"] == 0)].shape[0]))\n",
    "print('Number of respondents who were marked as \"did not provide an answer to D4b\" and noanswerD4b_2 says they did not: {}'.format(df[(df[\"D4b_1\"].isna()) & (df[\"noanswerD4b_2\"] == 1)].shape[0]))\n",
    "print('Number of respondents who were marked as \"did not provide an answer to D4b\" but noanswerD4b_2 says they did: {}'.format(df[(df[\"D4b_1\"].isna()) & (df[\"noanswerD4b_2\"] == 0)].shape[0]))\n",
    "\n",
    "# We are encountering similar issues here as with noanswerQ1_98, hence, I will drop the column too.\n",
    "df = df.drop(columns = [\"noanswerD4b_2\"])"
   ]
  },
  {
   "cell_type": "code",
   "execution_count": null,
   "metadata": {
    "colab": {},
    "colab_type": "code",
    "id": "xcg8lZ5WSbGX"
   },
   "outputs": [],
   "source": [
    "# All columns with \"n\" in their name\n",
    "# They can be dropped since they just help with matching parties across the dataset and with other surveys but will\n",
    "# not help us with modelling or presenting the information. We can understand their role thanks to the documentation.\n",
    "df = df.drop(columns = [\"Q2n\", \"Q7n\", \"Q9n\", \"Q25n\"])"
   ]
  },
  {
   "cell_type": "code",
   "execution_count": null,
   "metadata": {
    "colab": {},
    "colab_type": "code",
    "id": "suTvK-3KSbGa"
   },
   "outputs": [],
   "source": [
    "# All columns starting with \"lang\"\n",
    "df.groupby(by=[\"countrycode\", \"lang_finn\"]).count() # Values of 1 or 2 in Finland only.\n",
    "df.groupby(by=[\"countrycode\", \"lang_est\"]).count() # Values of 1 or 2 in Estonia only.\n",
    "df.groupby(by=[\"countrycode\", \"lang_BE\"]).count() # Values of 1 or 2 in Belgium only.\n",
    "df.groupby(by=[\"countrycode\", \"lang_LT\"]).count() # Values of 1 or 2 in Latvia only.\n",
    "# In those countries, respondents could select in what language they wanted to answer the questions,\n",
    "# there were 2 versions of national questionnaires prepared.\n",
    "\n",
    "# However, there were 3 versions of the survey for Luxembourg (French, German, Luxembourgish)\n",
    "# and that is not captured in the dataset (i.e. in what language the response was recorded).\n",
    "\n",
    "# Let us fill those columns with 0s where we have missing values.\n",
    "# This way, we can still preserve the information about the languages of respondents of those 4 countries\n",
    "# but indicate that they are not relevant for the rest of our observations.\n",
    "df[\"lang_finn\"] = df[\"lang_finn\"].fillna(0)\n",
    "df[\"lang_est\"] = df[\"lang_est\"].fillna(0)\n",
    "df[\"lang_BE\"] = df[\"lang_BE\"].fillna(0)\n",
    "df[\"lang_LT\"] = df[\"lang_LT\"].fillna(0)"
   ]
  },
  {
   "cell_type": "code",
   "execution_count": null,
   "metadata": {
    "colab": {},
    "colab_type": "code",
    "id": "B0RSO0PsSbGd"
   },
   "outputs": [],
   "source": [
    "# WGT columns\n",
    "# Sampling weights used when selecting respondents to the survey used to avoid underrespresenting citizens\n",
    "# who may not use the internet frequently.\n",
    "# We can drop them as they do not tell us anything about our individual observations and were computed on the information\n",
    "# that the dataset already contains.\n",
    "df = df.drop(columns = [\"WGT1\", \"WGT2\", \"WGT3\", \"WGT4\", \"WGT5\"])"
   ]
  },
  {
   "cell_type": "code",
   "execution_count": null,
   "metadata": {
    "colab": {},
    "colab_type": "code",
    "id": "JcJ3oNLmSbGg"
   },
   "outputs": [],
   "source": [
    "# Replace the entries in Q2, Q7, Q9, Q25 with actual names of parties.\n",
    "# Drop Q2_EES, Q7_ees, Q9_ees, Q25_EES - they capture the same information as Q2, Q7, Q9, Q25.\n",
    "party_names_Q2 = party_codes[[\"Q2\", \"English name\"]].drop_duplicates().dropna()\n",
    "party_names_Q7 = party_codes[[\"Q7\", \"English name\"]].drop_duplicates().dropna()\n",
    "party_names_Q9 = party_codes[[\"Q9\", \"English name\"]].drop_duplicates().dropna()\n",
    "party_names_Q25 = party_codes[[\"q25\", \"English name\"]].drop_duplicates().dropna()\n",
    "\n",
    "# Skip one party as their assigned code in party_names_Q25 does not make sense.\n",
    "party_names_Q25 = party_names_Q25[party_names_Q25[\"English name\"] != \"Of the Region & Pirate Party\"]\n",
    "\n",
    "# Creating mappings.\n",
    "mapQ2 = dict(zip(party_names_Q2[\"Q2\"], party_names_Q2[\"English name\"]))\n",
    "mapQ7 = dict(zip(party_names_Q7[\"Q7\"], party_names_Q7[\"English name\"]))\n",
    "mapQ9 = dict(zip(party_names_Q9[\"Q9\"], party_names_Q9[\"English name\"]))\n",
    "\n",
    "# Converting the keys to floats to match the data type in df.\n",
    "mapQ25 = dict(zip([float(value.strip()) for value in party_names_Q25[\"q25\"]], party_names_Q25[\"English name\"]))\n",
    "\n",
    "# Apply mappings.\n",
    "df[\"Q2\"] = df[\"Q2\"].map(mapQ2, na_action = \"ignore\")\n",
    "df[\"Q7\"] = df[\"Q7\"].map(mapQ7, na_action = \"ignore\")\n",
    "df[\"Q9\"] = df[\"Q9\"].map(mapQ9, na_action = \"ignore\")\n",
    "df[\"Q25\"] = df[\"Q25\"].map(mapQ25, na_action = \"ignore\")\n",
    "\n",
    "# Drop the superfluous columns.\n",
    "df = df.drop(columns = [\"Q2_EES\", \"Q7_ees\", \"Q9_ees\", \"Q25_EES\"])"
   ]
  },
  {
   "cell_type": "code",
   "execution_count": null,
   "metadata": {
    "colab": {},
    "colab_type": "code",
    "id": "7Lz7dd_fSbGj"
   },
   "outputs": [],
   "source": [
    "# hAge\n",
    "# Varies from 1 to 5 (ordinal variable) but unexplained by the documentation and not mentioned\n",
    "# in the questionnaire! We can keep it and see if it helps us with modelling."
   ]
  },
  {
   "cell_type": "code",
   "execution_count": null,
   "metadata": {
    "colab": {},
    "colab_type": "code",
    "id": "y7JL-ntWSbGl"
   },
   "outputs": [],
   "source": [
    "# Drop Question 26 since the entries there do not have the same\n",
    "# meaning across all rows. For example, \"feeling strong sympathy\" for row 1\n",
    "# and \"feeling strong sympathy\" for row 2 apply to different national parties\n",
    "# while the encoded answers are identical. \n",
    "df = df.drop(columns = [\"Q26\"])"
   ]
  },
  {
   "cell_type": "code",
   "execution_count": null,
   "metadata": {
    "colab": {},
    "colab_type": "code",
    "id": "xLyfzhT6SbGq"
   },
   "outputs": [],
   "source": [
    "# Replace Question 27 which asks to identify which EU Party Group supports a given candidate\n",
    "# with columns that tell us whether respondents were able to correctly do it.\n",
    "# Correct answer = 1\n",
    "# Wrong answer/\"I don't know\" = 0\n",
    "# Missing value = keep the missing value\n",
    "df[\"EUPresident_correct_1\"] = [1 if response == 2 else 0 if response in [1, 3, 4, 98] else np.nan for response in df['Q27_1']]\n",
    "df[\"EUPresident_correct_2\"] = [1 if response == 1 else 0 if response in [2, 3, 4, 98] else np.nan for response in df['Q27_2']]\n",
    "df[\"EUPresident_correct_3\"] = [1 if response == 4 else 0 if response in [1, 3, 2, 98] else np.nan for response in df['Q27_3']]\n",
    "df = df.drop(columns = ['Q27_1', 'Q27_2', 'Q27_3'])"
   ]
  },
  {
   "cell_type": "code",
   "execution_count": null,
   "metadata": {
    "colab": {},
    "colab_type": "code",
    "id": "aiiRALT_SbGt"
   },
   "outputs": [],
   "source": [
    "# Questions 10, 13, 24 in the questionnaire had the following format:\n",
    "# - Each row referred to a national party\n",
    "# - Each column would assign a rating to that party\n",
    "# - Column ratings would be identical across countries, yet rows would indicate different parties\n",
    "\n",
    "# I reshaped the data so that each party from each country from each question is 1 column and the\n",
    "# column entries tell us the rating that a given respondent assigned to a party in that question."
   ]
  },
  {
   "cell_type": "code",
   "execution_count": null,
   "metadata": {
    "colab": {},
    "colab_type": "code",
    "id": "4jdZyYvySbGw",
    "outputId": "a1dc6538-2fae-42f8-c5d5-1863204923a2"
   },
   "outputs": [
    {
     "name": "stdout",
     "output_type": "stream",
     "text": [
      "Finished processing:\n",
      "Q10\n",
      "Finished processing:\n",
      "Q13\n",
      "Finished processing:\n",
      "Q24\n",
      "Done!\n"
     ]
    }
   ],
   "source": [
    "# Find a list of all country codes.\n",
    "countries = list(set(party_codes[\"countrycode\"]))\n",
    "\n",
    "# Get a table showing shortened country names and their codes.\n",
    "country_names_mapping = party_codes[[\"country_short\", \"countrycode\"]].drop_duplicates().dropna()\n",
    "\n",
    "# Reshape answers to Q10, Q13 and Q24.\n",
    "def reshape_pivots(q, q_columns, survey_data):\n",
    "        '''\n",
    "        The function does the reshaping outlined in the cell above. \n",
    "\n",
    "        Args:\n",
    "            q: Name of the question.\n",
    "            q_columns: List containing all column names relating to the question.\n",
    "            survey_data: DataFrame which will be processed.\n",
    "\n",
    "        Returns:\n",
    "            survey_data: New DataFrame which contains the reshaped information.\n",
    "        '''\n",
    "\n",
    "    # Define what column from party_codes DataFrame should be used for mapping party names to their codes.\n",
    "    if q == \"Q10\":\n",
    "        party_col = \"Q10_PTV\"\n",
    "\n",
    "    if q == \"Q13\":\n",
    "        party_col = \"Q13_left_right \"\n",
    "\n",
    "    if q == \"Q24\":\n",
    "        party_col = \"Q24_EU\"\n",
    "\n",
    "    # Get a table with country codes, party codes and their English names.\n",
    "    mapping = party_codes[party_codes[party_col].notna()][[\"countrycode\", party_col, \"English name\"]]\n",
    "        \n",
    "    # Select the responses for a given country...\n",
    "    for country in countries:\n",
    "\n",
    "        # ... select a column that shows the answers about a party in that country (in the context of the chosen question)...\n",
    "        for party in q_columns:\n",
    "\n",
    "            # (check if the column that has been picked existed in the survey for that country)\n",
    "            if party.upper() in set(mapping[mapping[\"countrycode\"] == country][party_col].values.tolist()):\n",
    "\n",
    "                #... and create a new column linked to its ratings by that country's citizens.\n",
    "\n",
    "                # Get the name of the party.\n",
    "                col_name = mapping[(mapping[\"countrycode\"] == country) & (mapping[party_col] == party.upper())][\"English name\"].tolist()[0]\n",
    "\n",
    "                # Get the country name.\n",
    "                actual_country_name = country_names_mapping[country_names_mapping[\"countrycode\"] == country][\"country_short\"].tolist()[0]\n",
    "\n",
    "                # Fill the column with NAs and ratings.\n",
    "                # If someone cannot rate it (i.e. vote for it since they are not a citizen), assign NA to that row.\n",
    "                # If that party has a rating, place it inside the new column.\n",
    "                survey_data[str(q)+\"_\"+str(col_name)+\"_\"+str(actual_country_name)] = np.full(survey_data.shape[0], np.nan).tolist()\n",
    "                survey_data.loc[survey_data[\"countrycode\"] == country, str(q)+\"_\"+str(col_name)+\"_\"+str(actual_country_name)] = survey_data.loc[survey_data[\"countrycode\"] == country, party]\n",
    "\n",
    "    # Drop the original columns that related to this question.\n",
    "    survey_data = survey_data.drop(columns = q_columns)\n",
    "    print(\"Finished processing:\")\n",
    "    print(q)\n",
    "    return survey_data\n",
    "\n",
    "# Define which columns apply to specific questions.\n",
    "Q10_parties = ['q10_1', 'q10_2', 'q10_3', 'q10_4', 'q10_5', 'q10_6', 'q10_7', 'q10_8', 'q10_9', 'q10_10']\n",
    "Q13_parties = ['q13_1', 'q13_2', 'q13_3', 'q13_4', 'q13_5', 'q13_6', 'q13_7', 'q13_8', 'q13_9']\n",
    "Q24_parties = ['q24_1', 'q24_2', 'q24_3', 'q24_4', 'q24_5', 'q24_6', 'q24_7', 'q24_8', 'q24_9']\n",
    "pivots_columns = [Q10_parties, Q13_parties, Q24_parties]\n",
    "\n",
    "# Reshape our main DataFrame.\n",
    "df_new_Q10 = reshape_pivots(\"Q10\", Q10_parties, df)\n",
    "df_new_Q13 = reshape_pivots(\"Q13\", Q13_parties, df_new_Q10)\n",
    "df_new_Q24 = reshape_pivots(\"Q24\", Q24_parties, df_new_Q13)\n",
    "print(\"Done!\")\n",
    "df = df_new_Q24"
   ]
  },
  {
   "cell_type": "code",
   "execution_count": null,
   "metadata": {
    "colab": {},
    "colab_type": "code",
    "id": "BcpR-3itSbGz",
    "outputId": "9ff126a3-4fff-443c-fbb6-d7789785d547"
   },
   "outputs": [
    {
     "data": {
      "text/html": [
       "<div>\n",
       "<style scoped>\n",
       "    .dataframe tbody tr th:only-of-type {\n",
       "        vertical-align: middle;\n",
       "    }\n",
       "\n",
       "    .dataframe tbody tr th {\n",
       "        vertical-align: top;\n",
       "    }\n",
       "\n",
       "    .dataframe thead th {\n",
       "        text-align: right;\n",
       "    }\n",
       "</style>\n",
       "<table border=\"1\" class=\"dataframe\">\n",
       "  <thead>\n",
       "    <tr style=\"text-align: right;\">\n",
       "      <th></th>\n",
       "      <th>Serial</th>\n",
       "      <th>countrycode</th>\n",
       "      <th>region_NUTS1</th>\n",
       "      <th>region_NUTS2</th>\n",
       "      <th>Q1_1</th>\n",
       "      <th>Q2</th>\n",
       "      <th>Q3</th>\n",
       "      <th>Q4</th>\n",
       "      <th>Q5</th>\n",
       "      <th>Q6</th>\n",
       "      <th>...</th>\n",
       "      <th>Q24_  Imperium Europa _MT</th>\n",
       "      <th>Q24_People's Party for Freedom and Democracy_NL</th>\n",
       "      <th>Q24_Party of Freedom_NL</th>\n",
       "      <th>Q24_Christian Democratic Appeal_NL</th>\n",
       "      <th>Q24_Democrats '66_NL</th>\n",
       "      <th>Q24_Green Left_NL</th>\n",
       "      <th>Q24_Socialist Party_NL</th>\n",
       "      <th>Q24_Labour Party_NL</th>\n",
       "      <th>Q24_Christian Union_NL</th>\n",
       "      <th>Q24_Forum for Democracy_NL</th>\n",
       "    </tr>\n",
       "  </thead>\n",
       "  <tbody>\n",
       "    <tr>\n",
       "      <th>0</th>\n",
       "      <td>100009348.0</td>\n",
       "      <td>ÖSTERREICH</td>\n",
       "      <td>OSTÖSTERREICH</td>\n",
       "      <td>Niederösterreich</td>\n",
       "      <td></td>\n",
       "      <td>NaN</td>\n",
       "      <td>2</td>\n",
       "      <td>4</td>\n",
       "      <td>2</td>\n",
       "      <td>1</td>\n",
       "      <td>...</td>\n",
       "      <td>NaN</td>\n",
       "      <td>NaN</td>\n",
       "      <td>NaN</td>\n",
       "      <td>NaN</td>\n",
       "      <td>NaN</td>\n",
       "      <td>NaN</td>\n",
       "      <td>NaN</td>\n",
       "      <td>NaN</td>\n",
       "      <td>NaN</td>\n",
       "      <td>NaN</td>\n",
       "    </tr>\n",
       "    <tr>\n",
       "      <th>1</th>\n",
       "      <td>100007762.0</td>\n",
       "      <td>ÖSTERREICH</td>\n",
       "      <td>OSTÖSTERREICH</td>\n",
       "      <td>Niederösterreich</td>\n",
       "      <td>Politische Stabilität</td>\n",
       "      <td>Austrian People's Party</td>\n",
       "      <td>2</td>\n",
       "      <td>2</td>\n",
       "      <td>2</td>\n",
       "      <td>1</td>\n",
       "      <td>...</td>\n",
       "      <td>NaN</td>\n",
       "      <td>NaN</td>\n",
       "      <td>NaN</td>\n",
       "      <td>NaN</td>\n",
       "      <td>NaN</td>\n",
       "      <td>NaN</td>\n",
       "      <td>NaN</td>\n",
       "      <td>NaN</td>\n",
       "      <td>NaN</td>\n",
       "      <td>NaN</td>\n",
       "    </tr>\n",
       "    <tr>\n",
       "      <th>2</th>\n",
       "      <td>100007801.0</td>\n",
       "      <td>ÖSTERREICH</td>\n",
       "      <td>OSTÖSTERREICH</td>\n",
       "      <td>Niederösterreich</td>\n",
       "      <td>Spaltung der Gesellschaft durch Hetze und Lüge...</td>\n",
       "      <td>NaN</td>\n",
       "      <td>2</td>\n",
       "      <td>2</td>\n",
       "      <td>2</td>\n",
       "      <td>1</td>\n",
       "      <td>...</td>\n",
       "      <td>NaN</td>\n",
       "      <td>NaN</td>\n",
       "      <td>NaN</td>\n",
       "      <td>NaN</td>\n",
       "      <td>NaN</td>\n",
       "      <td>NaN</td>\n",
       "      <td>NaN</td>\n",
       "      <td>NaN</td>\n",
       "      <td>NaN</td>\n",
       "      <td>NaN</td>\n",
       "    </tr>\n",
       "    <tr>\n",
       "      <th>3</th>\n",
       "      <td>100007904.0</td>\n",
       "      <td>ÖSTERREICH</td>\n",
       "      <td>WESTÖSTERREICH</td>\n",
       "      <td>Tirol</td>\n",
       "      <td>mangelnder Umweltschutz</td>\n",
       "      <td>The Greens</td>\n",
       "      <td>2</td>\n",
       "      <td>2</td>\n",
       "      <td>2</td>\n",
       "      <td>2</td>\n",
       "      <td>...</td>\n",
       "      <td>NaN</td>\n",
       "      <td>NaN</td>\n",
       "      <td>NaN</td>\n",
       "      <td>NaN</td>\n",
       "      <td>NaN</td>\n",
       "      <td>NaN</td>\n",
       "      <td>NaN</td>\n",
       "      <td>NaN</td>\n",
       "      <td>NaN</td>\n",
       "      <td>NaN</td>\n",
       "    </tr>\n",
       "    <tr>\n",
       "      <th>4</th>\n",
       "      <td>100009223.0</td>\n",
       "      <td>ÖSTERREICH</td>\n",
       "      <td>OSTÖSTERREICH</td>\n",
       "      <td>Wien</td>\n",
       "      <td></td>\n",
       "      <td>NaN</td>\n",
       "      <td>2</td>\n",
       "      <td>2</td>\n",
       "      <td>98</td>\n",
       "      <td>2</td>\n",
       "      <td>...</td>\n",
       "      <td>NaN</td>\n",
       "      <td>NaN</td>\n",
       "      <td>NaN</td>\n",
       "      <td>NaN</td>\n",
       "      <td>NaN</td>\n",
       "      <td>NaN</td>\n",
       "      <td>NaN</td>\n",
       "      <td>NaN</td>\n",
       "      <td>NaN</td>\n",
       "      <td>NaN</td>\n",
       "    </tr>\n",
       "  </tbody>\n",
       "</table>\n",
       "<p>5 rows × 639 columns</p>\n",
       "</div>"
      ],
      "text/plain": [
       "        Serial countrycode    region_NUTS1      region_NUTS2  \\\n",
       "0  100009348.0  ÖSTERREICH   OSTÖSTERREICH  Niederösterreich   \n",
       "1  100007762.0  ÖSTERREICH   OSTÖSTERREICH  Niederösterreich   \n",
       "2  100007801.0  ÖSTERREICH   OSTÖSTERREICH  Niederösterreich   \n",
       "3  100007904.0  ÖSTERREICH  WESTÖSTERREICH             Tirol   \n",
       "4  100009223.0  ÖSTERREICH   OSTÖSTERREICH              Wien   \n",
       "\n",
       "                                                Q1_1                       Q2  \\\n",
       "0                                                                         NaN   \n",
       "1                              Politische Stabilität  Austrian People's Party   \n",
       "2  Spaltung der Gesellschaft durch Hetze und Lüge...                      NaN   \n",
       "3                            mangelnder Umweltschutz               The Greens   \n",
       "4                                                                         NaN   \n",
       "\n",
       "   Q3  Q4  Q5  Q6  ... Q24_  Imperium Europa _MT  \\\n",
       "0   2   4   2   1  ...                       NaN   \n",
       "1   2   2   2   1  ...                       NaN   \n",
       "2   2   2   2   1  ...                       NaN   \n",
       "3   2   2   2   2  ...                       NaN   \n",
       "4   2   2  98   2  ...                       NaN   \n",
       "\n",
       "   Q24_People's Party for Freedom and Democracy_NL Q24_Party of Freedom_NL  \\\n",
       "0                                              NaN                     NaN   \n",
       "1                                              NaN                     NaN   \n",
       "2                                              NaN                     NaN   \n",
       "3                                              NaN                     NaN   \n",
       "4                                              NaN                     NaN   \n",
       "\n",
       "   Q24_Christian Democratic Appeal_NL  Q24_Democrats '66_NL  \\\n",
       "0                                 NaN                   NaN   \n",
       "1                                 NaN                   NaN   \n",
       "2                                 NaN                   NaN   \n",
       "3                                 NaN                   NaN   \n",
       "4                                 NaN                   NaN   \n",
       "\n",
       "   Q24_Green Left_NL  Q24_Socialist Party_NL  Q24_Labour Party_NL  \\\n",
       "0                NaN                     NaN                  NaN   \n",
       "1                NaN                     NaN                  NaN   \n",
       "2                NaN                     NaN                  NaN   \n",
       "3                NaN                     NaN                  NaN   \n",
       "4                NaN                     NaN                  NaN   \n",
       "\n",
       "   Q24_Christian Union_NL  Q24_Forum for Democracy_NL  \n",
       "0                     NaN                         NaN  \n",
       "1                     NaN                         NaN  \n",
       "2                     NaN                         NaN  \n",
       "3                     NaN                         NaN  \n",
       "4                     NaN                         NaN  \n",
       "\n",
       "[5 rows x 639 columns]"
      ]
     },
     "execution_count": 23,
     "metadata": {
      "tags": []
     },
     "output_type": "execute_result"
    }
   ],
   "source": [
    "# Drop country codes and replace them with actual names.\n",
    "mapcountries = dict(zip(country_names_mapping[\"countrycode\"], country_names_mapping[\"country_short\"]))\n",
    "df[\"countrycode\"] = df[\"countrycode\"].map(mapcountries, na_action = \"ignore\")\n",
    "df[\"countrycode\"] = df[\"countrycode\"].map(mapNUTS, na_action = \"ignore\")\n",
    "df.head()"
   ]
  },
  {
   "cell_type": "code",
   "execution_count": null,
   "metadata": {
    "colab": {},
    "colab_type": "code",
    "id": "Vf8sJgGfSbG7"
   },
   "outputs": [],
   "source": [
    "# Add new columns with names/text translated into English.\n",
    "\n",
    "# Import my API key for using Google Translate and initiate the translation client.\n",
    "# The key is in a private .json file.\n",
    "os.environ['GOOGLE_APPLICATION_CREDENTIALS'] = r\"C:\\Users\\dawid\\Downloads\\APIKEY.json\"\n",
    "translate_client = translate.Client()\n",
    "\n",
    "# Translate names of countries and regions into English.\n",
    "country_original = list(set(df[\"countrycode\"].dropna()))\n",
    "Country_ENG = np.array([translate_client.translate(name)['translatedText'] for name in country_original])"
   ]
  },
  {
   "cell_type": "code",
   "execution_count": null,
   "metadata": {
    "colab": {},
    "colab_type": "code",
    "id": "aT-ckYXxSbG-"
   },
   "outputs": [],
   "source": [
    "# Fix certain issues with names in English.\n",
    "Country_ENG[np.where(Country_ENG == \"BELGIQUE-BELGIUM\")] = \"Belgium\"\n",
    "Country_ENG[np.where(Country_ENG == \"SUOMI FINLAND\")] = \"Finland\"\n",
    "\n",
    "def capital_letters(name):\n",
    "    name = name.split()\n",
    "    name = [sub_name.capitalize() for sub_name in name]\n",
    "    name = \" \".join(name)\n",
    "    return name\n",
    "  \n",
    "Country_ENG = [capital_letters(name) for name in Country_ENG]\n",
    "\n",
    "# Add a column with English names of countries to df.\n",
    "mapEng = dict(zip(country_original, Country_ENG))\n",
    "df[\"Country_ENG\"] = df[\"countrycode\"]\n",
    "df[\"Country_ENG\"] = df[\"Country_ENG\"].map(mapEng, na_action = \"ignore\")"
   ]
  },
  {
   "cell_type": "code",
   "execution_count": null,
   "metadata": {
    "colab": {},
    "colab_type": "code",
    "id": "ODqpkH0USbHB"
   },
   "outputs": [],
   "source": [
    "# Clean up the names in region_NUTS1.\n",
    "df[\"region_NUTS1\"] = [capital_letters(str(name)) for name in df[\"region_NUTS1\"]]"
   ]
  },
  {
   "cell_type": "code",
   "execution_count": null,
   "metadata": {
    "colab": {},
    "colab_type": "code",
    "id": "vxrSl1T9SbHD"
   },
   "outputs": [],
   "source": [
    "# Change names of original columns for clarity.\n",
    "df = df.rename(columns={\"Serial\": \"ID\", \n",
    "                        \"Q1_1\": \"Q1\", \n",
    "                        \"countrycode\": \"Country_Original\",\n",
    "                        \"region_NUTS1\": \"Region\",\n",
    "                        \"region_NUTS2\": \"Subregion\",\n",
    "                       })"
   ]
  },
  {
   "cell_type": "code",
   "execution_count": null,
   "metadata": {
    "colab": {},
    "colab_type": "code",
    "id": "KXsBPIXFSbHG",
    "outputId": "2b24e9ea-14d5-4178-fe50-457fe5a7cde9"
   },
   "outputs": [
    {
     "name": "stdout",
     "output_type": "stream",
     "text": [
      "['ID', 'Country_Original', 'Region', 'Subregion', 'Q1', 'Q2', 'Q3', 'Q4', 'Q5', 'Q6', 'Q7', 'Q8', 'Q9', 'Q11', 'Q14_1', 'Q14_2', 'Q14_3', 'Q14_4', 'Q14_5', 'Q14_6', 'Q16', 'Q18_1', 'Q18_2', 'Q19', 'Q20', 'Q21', 'Q22', 'Q23', 'Q25', 'QG32_1', 'QG32_2', 'QGQ34_1', 'QG34_2', 'QG36_1', 'QG36_2', 'QG38_1', 'QG38_2', 'QG38_3', 'QG38_4', 'QG38_5', 'QG38_6', 'D1', 'D4a', 'D4a_96_other', 'D4b_1', 'D5', 'D6', 'D6a', 'D7', 'D8', 'D9', 'D10', 'D11', 'D3', 'D4_1', 'hAge', 'D2_1', 'EDU', 'lang_BE', 'lang_est', 'lang_finn', 'lang_LT', 'EUPresident_correct_1', 'EUPresident_correct_2', 'EUPresident_correct_3', \"Q10_Austrian People's Party_AT\", 'Q10_Austrian Social Democratic Party_AT', 'Q10_NEOS - The New Austria and Liberal Forum_AT', 'Q10_The Greens_AT', 'Q10_Austrian Freedom Party_AT', 'Q10_Alliance for the Future of Austria_AT', 'Q10_Workers Party of Belgium_BE', 'Q10_Christian Democratic and Flemish Party_BE', 'Q10_Socialist Party Different_BE', 'Q10_Open Flemish Liberals and Democrats_BE', 'Q10_New Flemish Alliance_BE', 'Q10_Green_BE', 'Q10_Flemish Interest_BE', 'Q10_Civic Platform_PL', \"Q10_Polish People's Party_PL\", 'Q10_Democratic Left Alliance_PL', 'Q10_Law and Justice_PL', \"Q10_Kukiz'15_PL\", 'Q10_Spring_PL', 'Q10_Poland Together_PL', 'Q10_Social Democratic Party_PT', 'Q10_Social Democratic Center-Popular Party_PT', 'Q10_Socialist Party_PT', 'Q10_Unified Democratic Coalition_PT', 'Q10_Left Bloc_PT', 'Q10_Party for Animals and Nature_PT', 'Q10_Citzizens for European Development of Bulgaria (GERB)_BG', 'Q10_Coalition for Bulgaria (KB)_BG', 'Q10_Movements for Rights and Freedoms (DPS)_BG', 'Q10_IMRO \\x96 Bulgarian National Movement_BG', 'Q10_Democratic Bulgaria_BG', 'Q10_Will_BG', 'Q10_National Union Attack (ATAKA/ATA)_BG', 'Q10_Social Democratic Party of Croatia_HR', 'Q10_Croation Democratic Union_HR', 'Q10_Human Shield _HR', 'Q10_Coaltion of  HSS (1191810) + GRA?ANSKO-LIBERALNI SAVEZ - GLAS +IDS (1191953)_HR', 'Q10_Bridge of Independent Lists_HR', 'Q10_Party of Anti-corruption, Development and Transparency_HR', 'Q10_Milan Bandic 365 -- The Party of Labour and Solidarity_HR', 'Q10_Social Democratic Party_RO', 'Q10_Save Romania Union_RO', 'Q10_Alliance of Liberals and Democrats_RO', 'Q10_PRO Romania_RO', 'Q10_National Liberal Party_RO', 'Q10_Hungarian Democratic Alliance of Romania_RO', \"Q10_People's Movement Party_RO\", 'Q10_PLUS+ Freedom, Unity and Solidarity Party_RO', 'Q10_Christian Democratic Movement_SK', \"Q10_People's Party Our Slovakia_SK\", 'Q10_We are family _SK', 'Q10_Direction - Social Democracy_SK', 'Q10_Freedom and Solidarity_SK', 'Q10_Ordinary People and Independent Personalities_SK', 'Q10_Electoral alliance Progressive Slovakia and TOGETHER \\x96 Civic Democracy _SK', 'Q10_Slovak National Part_SK', 'Q10_Bridge_SK', \"Q10_Electoral alliance with Slovenian Democratic Party and Slovenian People's Party _SI\", 'Q10_List of Marjan Sarec_SI', 'Q10_Social Democratic Party_SI', \"Q10_New Slovene Christian People's Party_SI\", 'Q10_The Left _SI', 'Q10_Slovenian National Party_SI', 'Q10_  Party of Miro Cerar _SI', 'Q10_Alliance of Alenka Bratusek_SI', 'Q10_Democratic Party of Pensioners of Slovenia_SI', 'Q10_Progressive Party of the Working People_CY', 'Q10_Democratic Rally_CY', 'Q10_Democratic Party_CY', 'Q10_United Democratic Union of Centre_CY', 'Q10_Ecological and Environmental Movement (Cyprus Green Party)_CY', 'Q10_National Popular Front_CY', \"Q10_Christian and Democratic Union / Czechoslovak People's Party_CZ\", 'Q10_Czech Social Democratic Party_CZ', 'Q10_Civic Democratic Party_CZ', 'Q10_Communist Party of Bohemia and Moravia_CZ', 'Q10_ANO 2011_CZ', 'Q10_Czech Pirate Party_CZ', 'Q10_Freedom and Direct Democracy Tomio Okamura_CZ', 'Q10_Tradition, Responsibility, Prosperity 09 (TOP 09)_CZ', 'Q10_Social Democratic Party_DK', 'Q10_Liberals_DK', \"Q10_Danish People's Party_DK\", 'Q10_Radical Party_DK', \"Q10_Socialist People's Party_DK\", 'Q10_Red-Green Unity List_DK', \"Q10_Conservative People's Party_DK\", \"Q10_Spanish Socialist Workers' Party_ES\", 'Q10_Popular Party_ES', 'Q10_Podemos (We Can)_ES', 'Q10_Citizens - Party of the Citizenry_ES', 'Q10_Voice_ES', 'Q10_Republican Left of Catalonia _ES', 'Q10_Commitment to Europe _ES', 'Q10_Estonian Reform Party_EE', 'Q10_Estonian Center Party_EE', \"Q10_Conservative People's Party of Estonia_EE\", 'Q10_Union for the Republic -- Res Publica_EE', 'Q10_Social Democratic Party_EE', 'Q10_Estonia 200_EE', 'Q10_Estonian Greens_EE', 'Q10_Social Democratic Labour Party_SE', 'Q10_Moderate Coalition Party_SE', 'Q10_Green Ecology Party_SE', \"Q10_Liberal People's Party_SE\", 'Q10_Centre Party_SE', 'Q10_Sweden Democrats_SE', 'Q10_Christian Democrats_SE', 'Q10_Left Party_SE', 'Q10_Finnish Social Democrats_FI', 'Q10_True Finns_FI', 'Q10_National Coalition_FI', 'Q10_Finnish Centre_FI', 'Q10_Green Union_FI', 'Q10_Left Wing Alliance_FI', \"Q10_Swedish People's Party_FI\", 'Q10_The Republicans_FR', 'Q10_Socialist Party_FR', 'Q10_National Rally _FR', 'Q10_Europe Ecology - The Greens_FR', 'Q10_Unbowed France_FR', 'Q10_ Generation.s, the movement _FR', 'Q10_The Republic Onwards! _FR', 'Q10_Christian Democratic Union / Christian Social Union _DE', 'Q10_Sozialdemokratische Partei Deutschlands (SPD)_DE', 'Q10_Free Democratic Party_DE', 'Q10_Alliance 90 / The Greens_DE', 'Q10_The Left_DE', 'Q10_Alternative for Germany_DE', 'Q10_Pirates_DE', 'Q10_Coalition of the Radical Left_GR', 'Q10_New Democracy_GR', 'Q10_Golden Dawn_GR', 'Q10_Panhellenic Socialist Movement/ Movement for Change_GR', 'Q10_Communist Party of Greece_GR', 'Q10_The River (Greece)_GR', 'Q10_Independent Greeks_GR', 'Q10_Conservative Party_UK', 'Q10_Labour Party_UK', 'Q10_Liberal Democrats_UK', 'Q10_Green Party_UK', 'Q10_Scottish National Party_UK', 'Q10_United Kingdom Independence Party_UK', 'Q10_The Brexit Party_UK', 'Q10_Democratic Coalition_HU', 'Q10_FIDESZ-KDNP Alliance_HU', 'Q10_Jobbik_HU', 'Q10_Politics Can Be Different_HU', 'Q10_Hungarian Socialist Party_HU', 'Q10_Our Homeland Movement_HU', 'Q10_Momentum Movement _HU', 'Q10_Familiy of the Irish_IE', 'Q10_Labour Party_IE', 'Q10_Soldiers of Destiny_IE', 'Q10_Green Party_IE', 'Q10_Ourselves Alone_IE', 'Q10_Solidarity - People Before Profit/ _IE', 'Q10_Democratic Party_IT', 'Q10_Go Italy_IT', 'Q10_Northern League_IT', 'Q10_Five Star Movement_IT', 'Q10_Italian Left_IT', 'Q10_ More Europe (+Europa) _IT', 'Q10_Brothers of Italy - National Centre-right_IT', 'Q10_For Fatherland and Freedom - National Independence Movement of Latvia_LV', 'Q10_New Conservative Party_LV', 'Q10_Development/For!_LV', 'Q10_Who owns the state? _LV', 'Q10_Social Democratic Party \"Harmony\"_LV', \"Q10_Green and Farmers' Union_LV\", 'Q10_Unity_LV', 'Q10_Homeland Union - Lithuanian Christian Democrats_LT', 'Q10_Lithuanian Social Democratic Party_LT', 'Q10_Liberal Movement_LT', 'Q10_Labour Party_LT', 'Q10_Order and Justice_LT', \"Q10_Election Action of Lithuania's Poles_LT\", 'Q10_Lithuanian Peasant and Greens Union_LT', \"Q10_Christian Social People's Party_LU\", \"Q10_Socialist Workers' Party_LU\", 'Q10_Democratic Party_LU', 'Q10_The Greens_LU', 'Q10_The Left_LU', 'Q10_Alternative Democratic Reform Party_LU', 'Q10_Pirate Party of Luxembourg_LU', 'Q10_Labour Party_MT', 'Q10_Nationalist Party_MT', 'Q10_Democratic Alternative_MT', 'Q10_  Democratic Party_MT', 'Q10_  Imperium Europa _MT', \"Q10_People's Party for Freedom and Democracy_NL\", 'Q10_Party of Freedom_NL', 'Q10_Christian Democratic Appeal_NL', \"Q10_Democrats '66_NL\", 'Q10_Green Left_NL', 'Q10_Socialist Party_NL', 'Q10_Labour Party_NL', 'Q10_Christian Union_NL', 'Q10_Forum for Democracy_NL', \"Q13_Austrian People's Party_AT\", 'Q13_Austrian Social Democratic Party_AT', 'Q13_NEOS - The New Austria and Liberal Forum_AT', 'Q13_The Greens_AT', 'Q13_Austrian Freedom Party_AT', 'Q13_Alliance for the Future of Austria_AT', 'Q13_Workers Party of Belgium_BE', 'Q13_Christian Democratic and Flemish Party_BE', 'Q13_Socialist Party Different_BE', 'Q13_Open Flemish Liberals and Democrats_BE', 'Q13_New Flemish Alliance_BE', 'Q13_Green_BE', 'Q13_Civic Platform_PL', \"Q13_Polish People's Party_PL\", 'Q13_Democratic Left Alliance_PL', 'Q13_Law and Justice_PL', \"Q13_Kukiz'15_PL\", 'Q13_Spring_PL', 'Q13_Social Democratic Party_PT', 'Q13_Social Democratic Center-Popular Party_PT', 'Q13_Socialist Party_PT', 'Q13_Unified Democratic Coalition_PT', 'Q13_Left Bloc_PT', 'Q13_Party for Animals and Nature_PT', 'Q13_Citzizens for European Development of Bulgaria (GERB)_BG', 'Q13_Coalition for Bulgaria (KB)_BG', 'Q13_Movements for Rights and Freedoms (DPS)_BG', 'Q13_IMRO \\x96 Bulgarian National Movement_BG', 'Q13_Democratic Bulgaria_BG', 'Q13_Will_BG', 'Q13_Social Democratic Party of Croatia_HR', 'Q13_Croation Democratic Union_HR', 'Q13_Human Shield _HR', 'Q13_Coaltion of  HSS (1191810) + GRA?ANSKO-LIBERALNI SAVEZ - GLAS +IDS (1191953)_HR', 'Q13_Bridge of Independent Lists_HR', 'Q13_Party of Anti-corruption, Development and Transparency_HR', 'Q13_Social Democratic Party_RO', 'Q13_Save Romania Union_RO', 'Q13_Alliance of Liberals and Democrats_RO', 'Q13_PRO Romania_RO', 'Q13_National Liberal Party_RO', 'Q13_Hungarian Democratic Alliance of Romania_RO', 'Q13_PLUS+ Freedom, Unity and Solidarity Party_RO', 'Q13_Christian Democratic Movement_SK', \"Q13_People's Party Our Slovakia_SK\", 'Q13_We are family _SK', 'Q13_Direction - Social Democracy_SK', 'Q13_Freedom and Solidarity_SK', 'Q13_Ordinary People and Independent Personalities_SK', 'Q13_Slovak National Part_SK', 'Q13_Bridge_SK', \"Q13_Electoral alliance with Slovenian Democratic Party and Slovenian People's Party _SI\", 'Q13_List of Marjan Sarec_SI', 'Q13_Social Democratic Party_SI', \"Q13_New Slovene Christian People's Party_SI\", 'Q13_The Left _SI', 'Q13_Slovenian National Party_SI', 'Q13_Alliance of Alenka Bratusek_SI', 'Q13_Democratic Party of Pensioners of Slovenia_SI', 'Q13_Progressive Party of the Working People_CY', 'Q13_Democratic Rally_CY', 'Q13_Democratic Party_CY', 'Q13_United Democratic Union of Centre_CY', 'Q13_Ecological and Environmental Movement (Cyprus Green Party)_CY', 'Q13_National Popular Front_CY', \"Q13_Christian and Democratic Union / Czechoslovak People's Party_CZ\", 'Q13_Czech Social Democratic Party_CZ', 'Q13_Civic Democratic Party_CZ', 'Q13_Communist Party of Bohemia and Moravia_CZ', 'Q13_ANO 2011_CZ', 'Q13_Czech Pirate Party_CZ', 'Q13_Social Democratic Party_DK', 'Q13_Liberals_DK', \"Q13_Danish People's Party_DK\", 'Q13_Radical Party_DK', \"Q13_Socialist People's Party_DK\", 'Q13_Red-Green Unity List_DK', \"Q13_Spanish Socialist Workers' Party_ES\", 'Q13_Popular Party_ES', 'Q13_Podemos (We Can)_ES', 'Q13_Citizens - Party of the Citizenry_ES', 'Q13_Voice_ES', 'Q13_Republican Left of Catalonia _ES', 'Q13_Estonian Reform Party_EE', 'Q13_Estonian Center Party_EE', \"Q13_Conservative People's Party of Estonia_EE\", 'Q13_Union for the Republic -- Res Publica_EE', 'Q13_Social Democratic Party_EE', 'Q13_Estonia 200_EE', 'Q13_Social Democratic Labour Party_SE', 'Q13_Moderate Coalition Party_SE', 'Q13_Green Ecology Party_SE', \"Q13_Liberal People's Party_SE\", 'Q13_Centre Party_SE', 'Q13_Sweden Democrats_SE', 'Q13_Left Party_SE', 'Q13_Finnish Social Democrats_FI', 'Q13_True Finns_FI', 'Q13_National Coalition_FI', 'Q13_Finnish Centre_FI', 'Q13_Green Union_FI', 'Q13_Left Wing Alliance_FI', 'Q13_The Republicans_FR', 'Q13_Socialist Party_FR', 'Q13_National Rally _FR', 'Q13_Europe Ecology - The Greens_FR', 'Q13_Unbowed France_FR', 'Q13_ Generation.s, the movement _FR', 'Q13_Christian Democratic Union / Christian Social Union _DE', 'Q13_Sozialdemokratische Partei Deutschlands (SPD)_DE', 'Q13_Free Democratic Party_DE', 'Q13_Alliance 90 / The Greens_DE', 'Q13_The Left_DE', 'Q13_Alternative for Germany_DE', 'Q13_Coalition of the Radical Left_GR', 'Q13_New Democracy_GR', 'Q13_Golden Dawn_GR', 'Q13_Panhellenic Socialist Movement/ Movement for Change_GR', 'Q13_Communist Party of Greece_GR', 'Q13_The River (Greece)_GR', 'Q13_Conservative Party_UK', 'Q13_Labour Party_UK', 'Q13_Liberal Democrats_UK', 'Q13_Green Party_UK', 'Q13_Scottish National Party_UK', 'Q13_United Kingdom Independence Party_UK', 'Q13_Democratic Coalition_HU', 'Q13_FIDESZ-KDNP Alliance_HU', 'Q13_Jobbik_HU', 'Q13_Politics Can Be Different_HU', 'Q13_Hungarian Socialist Party_HU', 'Q13_Our Homeland Movement_HU', 'Q13_Familiy of the Irish_IE', 'Q13_Labour Party_IE', 'Q13_Soldiers of Destiny_IE', 'Q13_Green Party_IE', 'Q13_Ourselves Alone_IE', 'Q13_Solidarity - People Before Profit/ _IE', 'Q13_Democratic Party_IT', 'Q13_Go Italy_IT', 'Q13_Northern League_IT', 'Q13_Five Star Movement_IT', 'Q13_Italian Left_IT', 'Q13_ More Europe (+Europa) _IT', 'Q13_For Fatherland and Freedom - National Independence Movement of Latvia_LV', 'Q13_New Conservative Party_LV', 'Q13_Development/For!_LV', 'Q13_Who owns the state? _LV', 'Q13_Social Democratic Party \"Harmony\"_LV', \"Q13_Green and Farmers' Union_LV\", 'Q13_Homeland Union - Lithuanian Christian Democrats_LT', 'Q13_Lithuanian Social Democratic Party_LT', 'Q13_Liberal Movement_LT', 'Q13_Labour Party_LT', 'Q13_Order and Justice_LT', \"Q13_Election Action of Lithuania's Poles_LT\", \"Q13_Christian Social People's Party_LU\", \"Q13_Socialist Workers' Party_LU\", 'Q13_Democratic Party_LU', 'Q13_The Greens_LU', 'Q13_The Left_LU', 'Q13_Alternative Democratic Reform Party_LU', 'Q13_Labour Party_MT', 'Q13_Nationalist Party_MT', 'Q13_Democratic Alternative_MT', 'Q13_  Democratic Party_MT', 'Q13_  Imperium Europa _MT', \"Q13_People's Party for Freedom and Democracy_NL\", 'Q13_Party of Freedom_NL', 'Q13_Christian Democratic Appeal_NL', \"Q13_Democrats '66_NL\", 'Q13_Green Left_NL', 'Q13_Socialist Party_NL', 'Q13_Christian Union_NL', 'Q13_Forum for Democracy_NL', \"Q24_Austrian People's Party_AT\", 'Q24_Austrian Social Democratic Party_AT', 'Q24_NEOS - The New Austria and Liberal Forum_AT', 'Q24_The Greens_AT', 'Q24_Austrian Freedom Party_AT', 'Q24_Alliance for the Future of Austria_AT', 'Q24_Workers Party of Belgium_BE', 'Q24_Christian Democratic and Flemish Party_BE', 'Q24_Socialist Party Different_BE', 'Q24_Open Flemish Liberals and Democrats_BE', 'Q24_New Flemish Alliance_BE', 'Q24_Green_BE', 'Q24_Flemish Interest_BE', 'Q24_Civic Platform_PL', \"Q24_Polish People's Party_PL\", 'Q24_Democratic Left Alliance_PL', 'Q24_Law and Justice_PL', \"Q24_Kukiz'15_PL\", 'Q24_Spring_PL', 'Q24_Poland Together_PL', 'Q24_Social Democratic Party_PT', 'Q24_Social Democratic Center-Popular Party_PT', 'Q24_Socialist Party_PT', 'Q24_Unified Democratic Coalition_PT', 'Q24_Left Bloc_PT', 'Q24_Party for Animals and Nature_PT', 'Q24_Citzizens for European Development of Bulgaria (GERB)_BG', 'Q24_Coalition for Bulgaria (KB)_BG', 'Q24_Movements for Rights and Freedoms (DPS)_BG', 'Q24_IMRO \\x96 Bulgarian National Movement_BG', 'Q24_Democratic Bulgaria_BG', 'Q24_Will_BG', 'Q24_National Union Attack (ATAKA/ATA)_BG', 'Q24_Social Democratic Party of Croatia_HR', 'Q24_Croation Democratic Union_HR', 'Q24_Human Shield _HR', 'Q24_Coaltion of  HSS (1191810) + GRA?ANSKO-LIBERALNI SAVEZ - GLAS +IDS (1191953)_HR', 'Q24_Bridge of Independent Lists_HR', 'Q24_Party of Anti-corruption, Development and Transparency_HR', 'Q24_Milan Bandic 365 -- The Party of Labour and Solidarity_HR', 'Q24_Social Democratic Party_RO', 'Q24_Save Romania Union_RO', 'Q24_Alliance of Liberals and Democrats_RO', 'Q24_PRO Romania_RO', 'Q24_National Liberal Party_RO', 'Q24_Hungarian Democratic Alliance of Romania_RO', \"Q24_People's Movement Party_RO\", 'Q24_PLUS+ Freedom, Unity and Solidarity Party_RO', 'Q24_Christian Democratic Movement_SK', \"Q24_People's Party Our Slovakia_SK\", 'Q24_We are family _SK', 'Q24_Direction - Social Democracy_SK', 'Q24_Freedom and Solidarity_SK', 'Q24_Ordinary People and Independent Personalities_SK', 'Q24_Electoral alliance Progressive Slovakia and TOGETHER \\x96 Civic Democracy _SK', 'Q24_Slovak National Part_SK', 'Q24_Bridge_SK', \"Q24_Electoral alliance with Slovenian Democratic Party and Slovenian People's Party _SI\", 'Q24_List of Marjan Sarec_SI', 'Q24_Social Democratic Party_SI', \"Q24_New Slovene Christian People's Party_SI\", 'Q24_The Left _SI', 'Q24_Slovenian National Party_SI', 'Q24_  Party of Miro Cerar _SI', 'Q24_Alliance of Alenka Bratusek_SI', 'Q24_Democratic Party of Pensioners of Slovenia_SI', 'Q24_Progressive Party of the Working People_CY', 'Q24_Democratic Rally_CY', 'Q24_Democratic Party_CY', 'Q24_United Democratic Union of Centre_CY', 'Q24_Ecological and Environmental Movement (Cyprus Green Party)_CY', 'Q24_National Popular Front_CY', \"Q24_Citizens' Alliance_CY\", \"Q24_Christian and Democratic Union / Czechoslovak People's Party_CZ\", 'Q24_Czech Social Democratic Party_CZ', 'Q24_Civic Democratic Party_CZ', 'Q24_Communist Party of Bohemia and Moravia_CZ', 'Q24_ANO 2011_CZ', 'Q24_Czech Pirate Party_CZ', 'Q24_Freedom and Direct Democracy Tomio Okamura_CZ', 'Q24_Tradition, Responsibility, Prosperity 09 (TOP 09)_CZ', 'Q24_Social Democratic Party_DK', 'Q24_Liberals_DK', \"Q24_Danish People's Party_DK\", 'Q24_Radical Party_DK', \"Q24_Socialist People's Party_DK\", 'Q24_Red-Green Unity List_DK', \"Q24_Conservative People's Party_DK\", \"Q24_Spanish Socialist Workers' Party_ES\", 'Q24_Popular Party_ES', 'Q24_Podemos (We Can)_ES', 'Q24_Citizens - Party of the Citizenry_ES', 'Q24_Voice_ES', 'Q24_Republican Left of Catalonia _ES', 'Q24_Commitment to Europe _ES', 'Q24_Estonian Reform Party_EE', 'Q24_Estonian Center Party_EE', \"Q24_Conservative People's Party of Estonia_EE\", 'Q24_Union for the Republic -- Res Publica_EE', 'Q24_Social Democratic Party_EE', 'Q24_Estonia 200_EE', 'Q24_Estonian Greens_EE', 'Q24_Social Democratic Labour Party_SE', 'Q24_Moderate Coalition Party_SE', 'Q24_Green Ecology Party_SE', \"Q24_Liberal People's Party_SE\", 'Q24_Centre Party_SE', 'Q24_Sweden Democrats_SE', 'Q24_Christian Democrats_SE', 'Q24_Left Party_SE', 'Q24_Finnish Social Democrats_FI', 'Q24_True Finns_FI', 'Q24_National Coalition_FI', 'Q24_Finnish Centre_FI', 'Q24_Green Union_FI', 'Q24_Left Wing Alliance_FI', \"Q24_Swedish People's Party_FI\", 'Q24_The Republicans_FR', 'Q24_Socialist Party_FR', 'Q24_National Rally _FR', 'Q24_Europe Ecology - The Greens_FR', 'Q24_Unbowed France_FR', 'Q24_ Generation.s, the movement _FR', 'Q24_The Republic Onwards! _FR', 'Q24_Christian Democratic Union / Christian Social Union _DE', 'Q24_Sozialdemokratische Partei Deutschlands (SPD)_DE', 'Q24_Free Democratic Party_DE', 'Q24_Alliance 90 / The Greens_DE', 'Q24_The Left_DE', 'Q24_Alternative for Germany_DE', 'Q24_Pirates_DE', 'Q24_Coalition of the Radical Left_GR', 'Q24_New Democracy_GR', 'Q24_Golden Dawn_GR', 'Q24_Panhellenic Socialist Movement/ Movement for Change_GR', 'Q24_Communist Party of Greece_GR', 'Q24_The River (Greece)_GR', 'Q24_Independent Greeks_GR', 'Q24_Conservative Party_UK', 'Q24_Labour Party_UK', 'Q24_Liberal Democrats_UK', 'Q24_Green Party_UK', 'Q24_Scottish National Party_UK', 'Q24_United Kingdom Independence Party_UK', 'Q24_The Brexit Party_UK', 'Q24_Democratic Coalition_HU', 'Q24_FIDESZ-KDNP Alliance_HU', 'Q24_Jobbik_HU', 'Q24_Politics Can Be Different_HU', 'Q24_Hungarian Socialist Party_HU', 'Q24_Our Homeland Movement_HU', 'Q24_Momentum Movement _HU', 'Q24_Familiy of the Irish_IE', 'Q24_Labour Party_IE', 'Q24_Soldiers of Destiny_IE', 'Q24_Green Party_IE', 'Q24_Ourselves Alone_IE', 'Q24_Solidarity - People Before Profit/ _IE', 'Q24_Democratic Party_IT', 'Q24_Go Italy_IT', 'Q24_Northern League_IT', 'Q24_Five Star Movement_IT', 'Q24_Italian Left_IT', 'Q24_ More Europe (+Europa) _IT', 'Q24_Brothers of Italy - National Centre-right_IT', 'Q24_For Fatherland and Freedom - National Independence Movement of Latvia_LV', 'Q24_New Conservative Party_LV', 'Q24_Development/For!_LV', 'Q24_Who owns the state? _LV', 'Q24_Social Democratic Party \"Harmony\"_LV', \"Q24_Green and Farmers' Union_LV\", 'Q24_Unity_LV', 'Q24_Homeland Union - Lithuanian Christian Democrats_LT', 'Q24_Lithuanian Social Democratic Party_LT', 'Q24_Liberal Movement_LT', 'Q24_Labour Party_LT', 'Q24_Order and Justice_LT', \"Q24_Election Action of Lithuania's Poles_LT\", 'Q24_Lithuanian Peasant and Greens Union_LT', \"Q24_Christian Social People's Party_LU\", \"Q24_Socialist Workers' Party_LU\", 'Q24_Democratic Party_LU', 'Q24_The Greens_LU', 'Q24_The Left_LU', 'Q24_Alternative Democratic Reform Party_LU', 'Q24_Pirate Party of Luxembourg_LU', 'Q24_Labour Party_MT', 'Q24_Nationalist Party_MT', 'Q24_Democratic Alternative_MT', 'Q24_  Democratic Party_MT', 'Q24_  Imperium Europa _MT', \"Q24_People's Party for Freedom and Democracy_NL\", 'Q24_Party of Freedom_NL', 'Q24_Christian Democratic Appeal_NL', \"Q24_Democrats '66_NL\", 'Q24_Green Left_NL', 'Q24_Socialist Party_NL', 'Q24_Labour Party_NL', 'Q24_Christian Union_NL', 'Q24_Forum for Democracy_NL', 'Country_ENG']\n"
     ]
    }
   ],
   "source": [
    "# Final list of columns that will be used. \n",
    "print(list(df.columns))"
   ]
  },
  {
   "cell_type": "code",
   "execution_count": null,
   "metadata": {
    "colab": {},
    "colab_type": "code",
    "id": "Qu9SQ-WHSbHJ"
   },
   "outputs": [],
   "source": [
    "# Create a new DataFrame that excludes party information.\n",
    "df_noparty = df[['ID', 'Country_Original', 'Region', 'Subregion', 'Q1', 'Q2', 'Q3', 'Q4', 'Q5', 'Q6', 'Q7', 'Q8', 'Q9', 'Q11', 'Q14_1', 'Q14_2', 'Q14_3', 'Q14_4', 'Q14_5', 'Q14_6', 'Q16', 'Q18_1', 'Q18_2', 'Q19', 'Q20', 'Q21', 'Q22', 'Q23', 'Q25', 'QG32_1', 'QG32_2', 'QGQ34_1', 'QG34_2', 'QG36_1', 'QG36_2', 'QG38_1', 'QG38_2', 'QG38_3', 'QG38_4', 'QG38_5', 'QG38_6', 'D1', 'D4a', 'D4a_96_other', 'D4b_1', 'D5', 'D6', 'D6a', 'D7', 'D8', 'D9', 'D10', 'D11', 'D3', 'D4_1', 'hAge', 'D2_1', 'EDU', 'lang_BE', 'lang_est', 'lang_finn', 'lang_LT', 'EUPresident_correct_1', 'EUPresident_correct_2', 'EUPresident_correct_3', 'Country_ENG']]"
   ]
  },
  {
   "cell_type": "code",
   "execution_count": null,
   "metadata": {
    "colab": {},
    "colab_type": "code",
    "id": "CT90KsHUSbHM"
   },
   "outputs": [],
   "source": [
    "# Export the cleaned data.\n",
    "df.to_csv(\"cleandata_parties.csv\", index=False)\n",
    "df_noparty.to_csv(\"cleandata_noparty.csv\", index=False)"
   ]
  },
  {
   "cell_type": "markdown",
   "metadata": {
    "colab_type": "text",
    "id": "PuuNGyABcmOO"
   },
   "source": [
    "These two .csv files can be now used for modelling. \n",
    "\n",
    "I have decided to create two different tables as it might be useful to have them separate for modelling purposes (due to the size of cleandata_parties.csv and the degree of missing values there)."
   ]
  }
 ],
 "metadata": {
  "colab": {
   "collapsed_sections": [],
   "name": "EES - Data Cleaning.ipynb",
   "provenance": []
  },
  "kernelspec": {
   "display_name": "Python 3",
   "language": "python",
   "name": "python3"
  },
  "language_info": {
   "codemirror_mode": {
    "name": "ipython",
    "version": 3
   },
   "file_extension": ".py",
   "mimetype": "text/x-python",
   "name": "python",
   "nbconvert_exporter": "python",
   "pygments_lexer": "ipython3",
   "version": "3.7.6"
  }
 },
 "nbformat": 4,
 "nbformat_minor": 4
}
